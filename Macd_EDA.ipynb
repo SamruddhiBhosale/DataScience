{
  "nbformat": 4,
  "nbformat_minor": 0,
  "metadata": {
    "colab": {
      "provenance": []
    },
    "kernelspec": {
      "name": "python3",
      "display_name": "Python 3"
    },
    "language_info": {
      "name": "python"
    }
  },
  "cells": [
    {
      "cell_type": "code",
      "execution_count": 80,
      "metadata": {
        "colab": {
          "base_uri": "https://localhost:8080/",
          "height": 152
        },
        "id": "mfYqlp6fU8iY",
        "outputId": "6471de5e-2fd1-423b-94c5-88f3bf1aac00"
      },
      "outputs": [
        {
          "output_type": "stream",
          "name": "stdout",
          "text": [
            "\u001b[1m\u001b[96mNotebook Color Scheme: \u001b[0m\n",
            "hello\n"
          ]
        },
        {
          "output_type": "display_data",
          "data": {
            "text/plain": [
              "<Figure size 500x100 with 1 Axes>"
            ],
            "image/png": "[encoded data removed]"
          },
          "metadata": {}
        }
      ],
      "source": [
        "import matplotlib.pyplot as plt\n",
        "import seaborn as sns\n",
        "import plotly.express as px\n",
        "\n",
        "#Custom Colors\n",
        "class clr:\n",
        "    S = '\\033[1m' + '\\033[96m'\n",
        "    E = '\\033[0m'\n",
        "\n",
        "my_colors = [\"#FFC72C\",\"#DA291C\", \"#B56576\", \"#E56B6F\", \"#EAAC8B\"]\n",
        "\n",
        "print(clr.S + \"Notebook Color Scheme: \" + clr.E)\n",
        "print(\"hello\")\n",
        "sns.palplot(sns.color_palette(my_colors))"
      ]
    },
    {
      "cell_type": "code",
      "source": [
        "import pandas as pd"
      ],
      "metadata": {
        "id": "nTfjQlq9fKLb"
      },
      "execution_count": 2,
      "outputs": []
    },
    {
      "cell_type": "code",
      "source": [
        "df = pd.read_csv('India_Macd.csv')\n",
        "df.head()"
      ],
      "metadata": {
        "colab": {
          "base_uri": "https://localhost:8080/",
          "height": 377
        },
        "id": "KOiAqtM4f_GI",
        "outputId": "c468bf16-316f-4f9f-d62f-7bc6419ad748"
      },
      "execution_count": 75,
      "outputs": [
        {
          "output_type": "execute_result",
          "data": {
            "text/plain": [
              "  Menu Category                Menu Items Per Serve Size  Energy (kCal)  \\\n",
              "0  Regular Menu        McVeggieâ„¢ Burger          168 g         402.05   \n",
              "1  Regular Menu     McAloo Tikki BurgerÂ®          146 g         339.52   \n",
              "2  Regular Menu  McSpicyâ„¢ Paneer Burger          199 g         652.76   \n",
              "3  Regular Menu         Spicy Paneer Wrap          250 g         674.68   \n",
              "4  Regular Menu       American Veg Burger          177 g         512.17   \n",
              "\n",
              "   Protein (g)  Total fat (g)  Sat Fat (g)  Trans fat (g)  Cholesterols (mg)  \\\n",
              "0        10.24          13.83         5.34           0.16               2.49   \n",
              "1         8.50          11.31         4.27           0.20               1.47   \n",
              "2        20.29          39.45        17.12           0.18              21.85   \n",
              "3        20.96          39.10        19.73           0.26              40.93   \n",
              "4        15.30          23.45        10.51           0.17              25.24   \n",
              "\n",
              "   Total carbohydrate (g)  Total Sugars (g)  Added Sugars (g)  Sodium (mg)  \n",
              "0                   56.54              7.90              4.49       706.13  \n",
              "1                   50.27              7.05              4.07       545.34  \n",
              "2                   52.33              8.35              5.27      1074.58  \n",
              "3                   59.27              3.50              1.08      1087.46  \n",
              "4                   56.96              7.85              4.76      1051.24  "
            ],
            "text/html": [
              "\n",
              "  <div id=\"df-1e3cee85-ac90-42f9-bb90-af6d5854dcc2\" class=\"colab-df-container\">\n",
              "    <div>\n",
              "<style scoped>\n",
              "    .dataframe tbody tr th:only-of-type {\n",
              "        vertical-align: middle;\n",
              "    }\n",
              "\n",
              "    .dataframe tbody tr th {\n",
              "        vertical-align: top;\n",
              "    }\n",
              "\n",
              "    .dataframe thead th {\n",
              "        text-align: right;\n",
              "    }\n",
              "</style>\n",
              "<table border=\"1\" class=\"dataframe\">\n",
              "  <thead>\n",
              "    <tr style=\"text-align: right;\">\n",
              "      <th></th>\n",
              "      <th>Menu Category</th>\n",
              "      <th>Menu Items</th>\n",
              "      <th>Per Serve Size</th>\n",
              "      <th>Energy (kCal)</th>\n",
              "      <th>Protein (g)</th>\n",
              "      <th>Total fat (g)</th>\n",
              "      <th>Sat Fat (g)</th>\n",
              "      <th>Trans fat (g)</th>\n",
              "      <th>Cholesterols (mg)</th>\n",
              "      <th>Total carbohydrate (g)</th>\n",
              "      <th>Total Sugars (g)</th>\n",
              "      <th>Added Sugars (g)</th>\n",
              "      <th>Sodium (mg)</th>\n",
              "    </tr>\n",
              "  </thead>\n",
              "  <tbody>\n",
              "    <tr>\n",
              "      <th>0</th>\n",
              "      <td>Regular Menu</td>\n",
              "      <td>McVeggieâ„¢ Burger</td>\n",
              "      <td>168 g</td>\n",
              "      <td>402.05</td>\n",
              "      <td>10.24</td>\n",
              "      <td>13.83</td>\n",
              "      <td>5.34</td>\n",
              "      <td>0.16</td>\n",
              "      <td>2.49</td>\n",
              "      <td>56.54</td>\n",
              "      <td>7.90</td>\n",
              "      <td>4.49</td>\n",
              "      <td>706.13</td>\n",
              "    </tr>\n",
              "    <tr>\n",
              "      <th>1</th>\n",
              "      <td>Regular Menu</td>\n",
              "      <td>McAloo Tikki BurgerÂ®</td>\n",
              "      <td>146 g</td>\n",
              "      <td>339.52</td>\n",
              "      <td>8.50</td>\n",
              "      <td>11.31</td>\n",
              "      <td>4.27</td>\n",
              "      <td>0.20</td>\n",
              "      <td>1.47</td>\n",
              "      <td>50.27</td>\n",
              "      <td>7.05</td>\n",
              "      <td>4.07</td>\n",
              "      <td>545.34</td>\n",
              "    </tr>\n",
              "    <tr>\n",
              "      <th>2</th>\n",
              "      <td>Regular Menu</td>\n",
              "      <td>McSpicyâ„¢ Paneer Burger</td>\n",
              "      <td>199 g</td>\n",
              "      <td>652.76</td>\n",
              "      <td>20.29</td>\n",
              "      <td>39.45</td>\n",
              "      <td>17.12</td>\n",
              "      <td>0.18</td>\n",
              "      <td>21.85</td>\n",
              "      <td>52.33</td>\n",
              "      <td>8.35</td>\n",
              "      <td>5.27</td>\n",
              "      <td>1074.58</td>\n",
              "    </tr>\n",
              "    <tr>\n",
              "      <th>3</th>\n",
              "      <td>Regular Menu</td>\n",
              "      <td>Spicy Paneer Wrap</td>\n",
              "      <td>250 g</td>\n",
              "      <td>674.68</td>\n",
              "      <td>20.96</td>\n",
              "      <td>39.10</td>\n",
              "      <td>19.73</td>\n",
              "      <td>0.26</td>\n",
              "      <td>40.93</td>\n",
              "      <td>59.27</td>\n",
              "      <td>3.50</td>\n",
              "      <td>1.08</td>\n",
              "      <td>1087.46</td>\n",
              "    </tr>\n",
              "    <tr>\n",
              "      <th>4</th>\n",
              "      <td>Regular Menu</td>\n",
              "      <td>American Veg Burger</td>\n",
              "      <td>177 g</td>\n",
              "      <td>512.17</td>\n",
              "      <td>15.30</td>\n",
              "      <td>23.45</td>\n",
              "      <td>10.51</td>\n",
              "      <td>0.17</td>\n",
              "      <td>25.24</td>\n",
              "      <td>56.96</td>\n",
              "      <td>7.85</td>\n",
              "      <td>4.76</td>\n",
              "      <td>1051.24</td>\n",
              "    </tr>\n",
              "  </tbody>\n",
              "</table>\n",
              "</div>\n",
              "    <div class=\"colab-df-buttons\">\n",
              "\n",
              "  <div class=\"colab-df-container\">\n",
              "    <button class=\"colab-df-convert\" onclick=\"convertToInteractive('df-1e3cee85-ac90-42f9-bb90-af6d5854dcc2')\"\n",
              "            title=\"Convert this dataframe to an interactive table.\"\n",
              "            style=\"display:none;\">\n",
              "\n",
              "  <svg xmlns=\"http://www.w3.org/2000/svg\" height=\"24px\" viewBox=\"0 -960 960 960\">\n",
              "    <path d=\"M120-120v-720h720v720H120Zm60-500h600v-160H180v160Zm220 220h160v-160H400v160Zm0 220h160v-160H400v160ZM180-400h160v-160H180v160Zm440 0h160v-160H620v160ZM180-180h160v-160H180v160Zm440 0h160v-160H620v160Z\"/>\n",
              "  </svg>\n",
              "    </button>\n",
              "\n",
              "  <style>\n",
              "    .colab-df-container {\n",
              "      display:flex;\n",
              "      gap: 12px;\n",
              "    }\n",
              "\n",
              "    .colab-df-convert {\n",
              "      background-color: #E8F0FE;\n",
              "      border: none;\n",
              "      border-radius: 50%;\n",
              "      cursor: pointer;\n",
              "      display: none;\n",
              "      fill: #1967D2;\n",
              "      height: 32px;\n",
              "      padding: 0 0 0 0;\n",
              "      width: 32px;\n",
              "    }\n",
              "\n",
              "    .colab-df-convert:hover {\n",
              "      background-color: #E2EBFA;\n",
              "      box-shadow: 0px 1px 2px rgba(60, 64, 67, 0.3), 0px 1px 3px 1px rgba(60, 64, 67, 0.15);\n",
              "      fill: #174EA6;\n",
              "    }\n",
              "\n",
              "    .colab-df-buttons div {\n",
              "      margin-bottom: 4px;\n",
              "    }\n",
              "\n",
              "    [theme=dark] .colab-df-convert {\n",
              "      background-color: #3B4455;\n",
              "      fill: #D2E3FC;\n",
              "    }\n",
              "\n",
              "    [theme=dark] .colab-df-convert:hover {\n",
              "      background-color: #434B5C;\n",
              "      box-shadow: 0px 1px 3px 1px rgba(0, 0, 0, 0.15);\n",
              "      filter: drop-shadow(0px 1px 2px rgba(0, 0, 0, 0.3));\n",
              "      fill: #FFFFFF;\n",
              "    }\n",
              "  </style>\n",
              "\n",
              "    <script>\n",
              "      const buttonEl =\n",
              "        document.querySelector('#df-1e3cee85-ac90-42f9-bb90-af6d5854dcc2 button.colab-df-convert');\n",
              "      buttonEl.style.display =\n",
              "        google.colab.kernel.accessAllowed ? 'block' : 'none';\n",
              "\n",
              "      async function convertToInteractive(key) {\n",
              "        const element = document.querySelector('#df-1e3cee85-ac90-42f9-bb90-af6d5854dcc2');\n",
              "        const dataTable =\n",
              "          await google.colab.kernel.invokeFunction('convertToInteractive',\n",
              "                                                    [key], {});\n",
              "        if (!dataTable) return;\n",
              "\n",
              "        const docLinkHtml = 'Like what you see? Visit the ' +\n",
              "          '<a target=\"_blank\" href=https://colab.research.google.com/notebooks/data_table.ipynb>data table notebook</a>'\n",
              "          + ' to learn more about interactive tables.';\n",
              "        element.innerHTML = '';\n",
              "        dataTable['output_type'] = 'display_data';\n",
              "        await google.colab.output.renderOutput(dataTable, element);\n",
              "        const docLink = document.createElement('div');\n",
              "        docLink.innerHTML = docLinkHtml;\n",
              "        element.appendChild(docLink);\n",
              "      }\n",
              "    </script>\n",
              "  </div>\n",
              "\n",
              "\n",
              "<div id=\"df-6233f5ea-1d29-4cc1-b47b-03812d4775cd\">\n",
              "  <button class=\"colab-df-quickchart\" onclick=\"quickchart('df-6233f5ea-1d29-4cc1-b47b-03812d4775cd')\"\n",
              "            title=\"Suggest charts\"\n",
              "            style=\"display:none;\">\n",
              "\n",
              "<svg xmlns=\"http://www.w3.org/2000/svg\" height=\"24px\"viewBox=\"0 0 24 24\"\n",
              "     width=\"24px\">\n",
              "    <g>\n",
              "        <path d=\"M19 3H5c-1.1 0-2 .9-2 2v14c0 1.1.9 2 2 2h14c1.1 0 2-.9 2-2V5c0-1.1-.9-2-2-2zM9 17H7v-7h2v7zm4 0h-2V7h2v10zm4 0h-2v-4h2v4z\"/>\n",
              "    </g>\n",
              "</svg>\n",
              "  </button>\n",
              "\n",
              "<style>\n",
              "  .colab-df-quickchart {\n",
              "      --bg-color: #E8F0FE;\n",
              "      --fill-color: #1967D2;\n",
              "      --hover-bg-color: #E2EBFA;\n",
              "      --hover-fill-color: #174EA6;\n",
              "      --disabled-fill-color: #AAA;\n",
              "      --disabled-bg-color: #DDD;\n",
              "  }\n",
              "\n",
              "  [theme=dark] .colab-df-quickchart {\n",
              "      --bg-color: #3B4455;\n",
              "      --fill-color: #D2E3FC;\n",
              "      --hover-bg-color: #434B5C;\n",
              "      --hover-fill-color: #FFFFFF;\n",
              "      --disabled-bg-color: #3B4455;\n",
              "      --disabled-fill-color: #666;\n",
              "  }\n",
              "\n",
              "  .colab-df-quickchart {\n",
              "    background-color: var(--bg-color);\n",
              "    border: none;\n",
              "    border-radius: 50%;\n",
              "    cursor: pointer;\n",
              "    display: none;\n",
              "    fill: var(--fill-color);\n",
              "    height: 32px;\n",
              "    padding: 0;\n",
              "    width: 32px;\n",
              "  }\n",
              "\n",
              "  .colab-df-quickchart:hover {\n",
              "    background-color: var(--hover-bg-color);\n",
              "    box-shadow: 0 1px 2px rgba(60, 64, 67, 0.3), 0 1px 3px 1px rgba(60, 64, 67, 0.15);\n",
              "    fill: var(--button-hover-fill-color);\n",
              "  }\n",
              "\n",
              "  .colab-df-quickchart-complete:disabled,\n",
              "  .colab-df-quickchart-complete:disabled:hover {\n",
              "    background-color: var(--disabled-bg-color);\n",
              "    fill: var(--disabled-fill-color);\n",
              "    box-shadow: none;\n",
              "  }\n",
              "\n",
              "  .colab-df-spinner {\n",
              "    border: 2px solid var(--fill-color);\n",
              "    border-color: transparent;\n",
              "    border-bottom-color: var(--fill-color);\n",
              "    animation:\n",
              "      spin 1s steps(1) infinite;\n",
              "  }\n",
              "\n",
              "  @keyframes spin {\n",
              "    0% {\n",
              "      border-color: transparent;\n",
              "      border-bottom-color: var(--fill-color);\n",
              "      border-left-color: var(--fill-color);\n",
              "    }\n",
              "    20% {\n",
              "      border-color: transparent;\n",
              "      border-left-color: var(--fill-color);\n",
              "      border-top-color: var(--fill-color);\n",
              "    }\n",
              "    30% {\n",
              "      border-color: transparent;\n",
              "      border-left-color: var(--fill-color);\n",
              "      border-top-color: var(--fill-color);\n",
              "      border-right-color: var(--fill-color);\n",
              "    }\n",
              "    40% {\n",
              "      border-color: transparent;\n",
              "      border-right-color: var(--fill-color);\n",
              "      border-top-color: var(--fill-color);\n",
              "    }\n",
              "    60% {\n",
              "      border-color: transparent;\n",
              "      border-right-color: var(--fill-color);\n",
              "    }\n",
              "    80% {\n",
              "      border-color: transparent;\n",
              "      border-right-color: var(--fill-color);\n",
              "      border-bottom-color: var(--fill-color);\n",
              "    }\n",
              "    90% {\n",
              "      border-color: transparent;\n",
              "      border-bottom-color: var(--fill-color);\n",
              "    }\n",
              "  }\n",
              "</style>\n",
              "\n",
              "  <script>\n",
              "    async function quickchart(key) {\n",
              "      const quickchartButtonEl =\n",
              "        document.querySelector('#' + key + ' button');\n",
              "      quickchartButtonEl.disabled = true;  // To prevent multiple clicks.\n",
              "      quickchartButtonEl.classList.add('colab-df-spinner');\n",
              "      try {\n",
              "        const charts = await google.colab.kernel.invokeFunction(\n",
              "            'suggestCharts', [key], {});\n",
              "      } catch (error) {\n",
              "        console.error('Error during call to suggestCharts:', error);\n",
              "      }\n",
              "      quickchartButtonEl.classList.remove('colab-df-spinner');\n",
              "      quickchartButtonEl.classList.add('colab-df-quickchart-complete');\n",
              "    }\n",
              "    (() => {\n",
              "      let quickchartButtonEl =\n",
              "        document.querySelector('#df-6233f5ea-1d29-4cc1-b47b-03812d4775cd button');\n",
              "      quickchartButtonEl.style.display =\n",
              "        google.colab.kernel.accessAllowed ? 'block' : 'none';\n",
              "    })();\n",
              "  </script>\n",
              "</div>\n",
              "    </div>\n",
              "  </div>\n"
            ]
          },
          "metadata": {},
          "execution_count": 75
        }
      ]
    },
    {
      "cell_type": "code",
      "source": [
        "df.shape"
      ],
      "metadata": {
        "colab": {
          "base_uri": "https://localhost:8080/"
        },
        "id": "4_enJKOtgUwU",
        "outputId": "b8214015-d7ca-47aa-9f34-760b63be1d80"
      },
      "execution_count": 4,
      "outputs": [
        {
          "output_type": "execute_result",
          "data": {
            "text/plain": [
              "(141, 13)"
            ]
          },
          "metadata": {},
          "execution_count": 4
        }
      ]
    },
    {
      "cell_type": "code",
      "source": [
        "df.describe()"
      ],
      "metadata": {
        "colab": {
          "base_uri": "https://localhost:8080/",
          "height": 351
        },
        "id": "5bdWjxIzghe6",
        "outputId": "cf981112-f683-47ff-83b0-bdec19c63f48"
      },
      "execution_count": 5,
      "outputs": [
        {
          "output_type": "execute_result",
          "data": {
            "text/plain": [
              "       Energy (kCal)  Protein (g)  Total fat (g)  Sat Fat (g)  Trans fat (g)  \\\n",
              "count     141.000000   141.000000     141.000000   141.000000     141.000000   \n",
              "mean      244.635461     7.493546       9.991702     4.997589       0.687163   \n",
              "std       185.554837     8.336863      10.339511     4.900451       6.326136   \n",
              "min         0.000000     0.000000       0.000000     0.000000       0.000000   \n",
              "25%       116.360000     0.650000       0.460000     0.280000       0.060000   \n",
              "50%       219.360000     4.790000       7.770000     4.270000       0.150000   \n",
              "75%       339.520000    10.880000      14.160000     7.280000       0.220000   \n",
              "max       834.360000    39.470000      45.180000    20.460000      75.260000   \n",
              "\n",
              "       Cholesterols (mg)  Total carbohydrate (g)  Total Sugars (g)  \\\n",
              "count         141.000000              141.000000        141.000000   \n",
              "mean           26.350071               31.190284         15.464894   \n",
              "std            50.334200               20.602044         15.690202   \n",
              "min             0.000000                0.000000          0.000000   \n",
              "25%             1.510000               15.740000          2.330000   \n",
              "50%             8.390000               30.820000          9.160000   \n",
              "75%            31.110000               46.000000         26.950000   \n",
              "max           302.610000               93.840000         64.220000   \n",
              "\n",
              "       Added Sugars (g)  Sodium (mg)  \n",
              "count        141.000000   140.000000  \n",
              "mean          10.336950   362.064143  \n",
              "std           14.283388   473.160490  \n",
              "min            0.000000     0.000000  \n",
              "25%            0.000000    43.895000  \n",
              "50%            3.640000   152.025000  \n",
              "75%           19.230000   534.240000  \n",
              "max           64.220000  2399.490000  "
            ],
            "text/html": [
              "\n",
              "  <div id=\"df-7aa393fa-b99c-474a-8d27-cae462fb2a6c\" class=\"colab-df-container\">\n",
              "    <div>\n",
              "<style scoped>\n",
              "    .dataframe tbody tr th:only-of-type {\n",
              "        vertical-align: middle;\n",
              "    }\n",
              "\n",
              "    .dataframe tbody tr th {\n",
              "        vertical-align: top;\n",
              "    }\n",
              "\n",
              "    .dataframe thead th {\n",
              "        text-align: right;\n",
              "    }\n",
              "</style>\n",
              "<table border=\"1\" class=\"dataframe\">\n",
              "  <thead>\n",
              "    <tr style=\"text-align: right;\">\n",
              "      <th></th>\n",
              "      <th>Energy (kCal)</th>\n",
              "      <th>Protein (g)</th>\n",
              "      <th>Total fat (g)</th>\n",
              "      <th>Sat Fat (g)</th>\n",
              "      <th>Trans fat (g)</th>\n",
              "      <th>Cholesterols (mg)</th>\n",
              "      <th>Total carbohydrate (g)</th>\n",
              "      <th>Total Sugars (g)</th>\n",
              "      <th>Added Sugars (g)</th>\n",
              "      <th>Sodium (mg)</th>\n",
              "    </tr>\n",
              "  </thead>\n",
              "  <tbody>\n",
              "    <tr>\n",
              "      <th>count</th>\n",
              "      <td>141.000000</td>\n",
              "      <td>141.000000</td>\n",
              "      <td>141.000000</td>\n",
              "      <td>141.000000</td>\n",
              "      <td>141.000000</td>\n",
              "      <td>141.000000</td>\n",
              "      <td>141.000000</td>\n",
              "      <td>141.000000</td>\n",
              "      <td>141.000000</td>\n",
              "      <td>140.000000</td>\n",
              "    </tr>\n",
              "    <tr>\n",
              "      <th>mean</th>\n",
              "      <td>244.635461</td>\n",
              "      <td>7.493546</td>\n",
              "      <td>9.991702</td>\n",
              "      <td>4.997589</td>\n",
              "      <td>0.687163</td>\n",
              "      <td>26.350071</td>\n",
              "      <td>31.190284</td>\n",
              "      <td>15.464894</td>\n",
              "      <td>10.336950</td>\n",
              "      <td>362.064143</td>\n",
              "    </tr>\n",
              "    <tr>\n",
              "      <th>std</th>\n",
              "      <td>185.554837</td>\n",
              "      <td>8.336863</td>\n",
              "      <td>10.339511</td>\n",
              "      <td>4.900451</td>\n",
              "      <td>6.326136</td>\n",
              "      <td>50.334200</td>\n",
              "      <td>20.602044</td>\n",
              "      <td>15.690202</td>\n",
              "      <td>14.283388</td>\n",
              "      <td>473.160490</td>\n",
              "    </tr>\n",
              "    <tr>\n",
              "      <th>min</th>\n",
              "      <td>0.000000</td>\n",
              "      <td>0.000000</td>\n",
              "      <td>0.000000</td>\n",
              "      <td>0.000000</td>\n",
              "      <td>0.000000</td>\n",
              "      <td>0.000000</td>\n",
              "      <td>0.000000</td>\n",
              "      <td>0.000000</td>\n",
              "      <td>0.000000</td>\n",
              "      <td>0.000000</td>\n",
              "    </tr>\n",
              "    <tr>\n",
              "      <th>25%</th>\n",
              "      <td>116.360000</td>\n",
              "      <td>0.650000</td>\n",
              "      <td>0.460000</td>\n",
              "      <td>0.280000</td>\n",
              "      <td>0.060000</td>\n",
              "      <td>1.510000</td>\n",
              "      <td>15.740000</td>\n",
              "      <td>2.330000</td>\n",
              "      <td>0.000000</td>\n",
              "      <td>43.895000</td>\n",
              "    </tr>\n",
              "    <tr>\n",
              "      <th>50%</th>\n",
              "      <td>219.360000</td>\n",
              "      <td>4.790000</td>\n",
              "      <td>7.770000</td>\n",
              "      <td>4.270000</td>\n",
              "      <td>0.150000</td>\n",
              "      <td>8.390000</td>\n",
              "      <td>30.820000</td>\n",
              "      <td>9.160000</td>\n",
              "      <td>3.640000</td>\n",
              "      <td>152.025000</td>\n",
              "    </tr>\n",
              "    <tr>\n",
              "      <th>75%</th>\n",
              "      <td>339.520000</td>\n",
              "      <td>10.880000</td>\n",
              "      <td>14.160000</td>\n",
              "      <td>7.280000</td>\n",
              "      <td>0.220000</td>\n",
              "      <td>31.110000</td>\n",
              "      <td>46.000000</td>\n",
              "      <td>26.950000</td>\n",
              "      <td>19.230000</td>\n",
              "      <td>534.240000</td>\n",
              "    </tr>\n",
              "    <tr>\n",
              "      <th>max</th>\n",
              "      <td>834.360000</td>\n",
              "      <td>39.470000</td>\n",
              "      <td>45.180000</td>\n",
              "      <td>20.460000</td>\n",
              "      <td>75.260000</td>\n",
              "      <td>302.610000</td>\n",
              "      <td>93.840000</td>\n",
              "      <td>64.220000</td>\n",
              "      <td>64.220000</td>\n",
              "      <td>2399.490000</td>\n",
              "    </tr>\n",
              "  </tbody>\n",
              "</table>\n",
              "</div>\n",
              "    <div class=\"colab-df-buttons\">\n",
              "\n",
              "  <div class=\"colab-df-container\">\n",
              "    <button class=\"colab-df-convert\" onclick=\"convertToInteractive('df-7aa393fa-b99c-474a-8d27-cae462fb2a6c')\"\n",
              "            title=\"Convert this dataframe to an interactive table.\"\n",
              "            style=\"display:none;\">\n",
              "\n",
              "  <svg xmlns=\"http://www.w3.org/2000/svg\" height=\"24px\" viewBox=\"0 -960 960 960\">\n",
              "    <path d=\"M120-120v-720h720v720H120Zm60-500h600v-160H180v160Zm220 220h160v-160H400v160Zm0 220h160v-160H400v160ZM180-400h160v-160H180v160Zm440 0h160v-160H620v160ZM180-180h160v-160H180v160Zm440 0h160v-160H620v160Z\"/>\n",
              "  </svg>\n",
              "    </button>\n",
              "\n",
              "  <style>\n",
              "    .colab-df-container {\n",
              "      display:flex;\n",
              "      gap: 12px;\n",
              "    }\n",
              "\n",
              "    .colab-df-convert {\n",
              "      background-color: #E8F0FE;\n",
              "      border: none;\n",
              "      border-radius: 50%;\n",
              "      cursor: pointer;\n",
              "      display: none;\n",
              "      fill: #1967D2;\n",
              "      height: 32px;\n",
              "      padding: 0 0 0 0;\n",
              "      width: 32px;\n",
              "    }\n",
              "\n",
              "    .colab-df-convert:hover {\n",
              "      background-color: #E2EBFA;\n",
              "      box-shadow: 0px 1px 2px rgba(60, 64, 67, 0.3), 0px 1px 3px 1px rgba(60, 64, 67, 0.15);\n",
              "      fill: #174EA6;\n",
              "    }\n",
              "\n",
              "    .colab-df-buttons div {\n",
              "      margin-bottom: 4px;\n",
              "    }\n",
              "\n",
              "    [theme=dark] .colab-df-convert {\n",
              "      background-color: #3B4455;\n",
              "      fill: #D2E3FC;\n",
              "    }\n",
              "\n",
              "    [theme=dark] .colab-df-convert:hover {\n",
              "      background-color: #434B5C;\n",
              "      box-shadow: 0px 1px 3px 1px rgba(0, 0, 0, 0.15);\n",
              "      filter: drop-shadow(0px 1px 2px rgba(0, 0, 0, 0.3));\n",
              "      fill: #FFFFFF;\n",
              "    }\n",
              "  </style>\n",
              "\n",
              "    <script>\n",
              "      const buttonEl =\n",
              "        document.querySelector('#df-7aa393fa-b99c-474a-8d27-cae462fb2a6c button.colab-df-convert');\n",
              "      buttonEl.style.display =\n",
              "        google.colab.kernel.accessAllowed ? 'block' : 'none';\n",
              "\n",
              "      async function convertToInteractive(key) {\n",
              "        const element = document.querySelector('#df-7aa393fa-b99c-474a-8d27-cae462fb2a6c');\n",
              "        const dataTable =\n",
              "          await google.colab.kernel.invokeFunction('convertToInteractive',\n",
              "                                                    [key], {});\n",
              "        if (!dataTable) return;\n",
              "\n",
              "        const docLinkHtml = 'Like what you see? Visit the ' +\n",
              "          '<a target=\"_blank\" href=https://colab.research.google.com/notebooks/data_table.ipynb>data table notebook</a>'\n",
              "          + ' to learn more about interactive tables.';\n",
              "        element.innerHTML = '';\n",
              "        dataTable['output_type'] = 'display_data';\n",
              "        await google.colab.output.renderOutput(dataTable, element);\n",
              "        const docLink = document.createElement('div');\n",
              "        docLink.innerHTML = docLinkHtml;\n",
              "        element.appendChild(docLink);\n",
              "      }\n",
              "    </script>\n",
              "  </div>\n",
              "\n",
              "\n",
              "<div id=\"df-1a089eee-ff7e-43c7-9a56-17ec599c39a4\">\n",
              "  <button class=\"colab-df-quickchart\" onclick=\"quickchart('df-1a089eee-ff7e-43c7-9a56-17ec599c39a4')\"\n",
              "            title=\"Suggest charts\"\n",
              "            style=\"display:none;\">\n",
              "\n",
              "<svg xmlns=\"http://www.w3.org/2000/svg\" height=\"24px\"viewBox=\"0 0 24 24\"\n",
              "     width=\"24px\">\n",
              "    <g>\n",
              "        <path d=\"M19 3H5c-1.1 0-2 .9-2 2v14c0 1.1.9 2 2 2h14c1.1 0 2-.9 2-2V5c0-1.1-.9-2-2-2zM9 17H7v-7h2v7zm4 0h-2V7h2v10zm4 0h-2v-4h2v4z\"/>\n",
              "    </g>\n",
              "</svg>\n",
              "  </button>\n",
              "\n",
              "<style>\n",
              "  .colab-df-quickchart {\n",
              "      --bg-color: #E8F0FE;\n",
              "      --fill-color: #1967D2;\n",
              "      --hover-bg-color: #E2EBFA;\n",
              "      --hover-fill-color: #174EA6;\n",
              "      --disabled-fill-color: #AAA;\n",
              "      --disabled-bg-color: #DDD;\n",
              "  }\n",
              "\n",
              "  [theme=dark] .colab-df-quickchart {\n",
              "      --bg-color: #3B4455;\n",
              "      --fill-color: #D2E3FC;\n",
              "      --hover-bg-color: #434B5C;\n",
              "      --hover-fill-color: #FFFFFF;\n",
              "      --disabled-bg-color: #3B4455;\n",
              "      --disabled-fill-color: #666;\n",
              "  }\n",
              "\n",
              "  .colab-df-quickchart {\n",
              "    background-color: var(--bg-color);\n",
              "    border: none;\n",
              "    border-radius: 50%;\n",
              "    cursor: pointer;\n",
              "    display: none;\n",
              "    fill: var(--fill-color);\n",
              "    height: 32px;\n",
              "    padding: 0;\n",
              "    width: 32px;\n",
              "  }\n",
              "\n",
              "  .colab-df-quickchart:hover {\n",
              "    background-color: var(--hover-bg-color);\n",
              "    box-shadow: 0 1px 2px rgba(60, 64, 67, 0.3), 0 1px 3px 1px rgba(60, 64, 67, 0.15);\n",
              "    fill: var(--button-hover-fill-color);\n",
              "  }\n",
              "\n",
              "  .colab-df-quickchart-complete:disabled,\n",
              "  .colab-df-quickchart-complete:disabled:hover {\n",
              "    background-color: var(--disabled-bg-color);\n",
              "    fill: var(--disabled-fill-color);\n",
              "    box-shadow: none;\n",
              "  }\n",
              "\n",
              "  .colab-df-spinner {\n",
              "    border: 2px solid var(--fill-color);\n",
              "    border-color: transparent;\n",
              "    border-bottom-color: var(--fill-color);\n",
              "    animation:\n",
              "      spin 1s steps(1) infinite;\n",
              "  }\n",
              "\n",
              "  @keyframes spin {\n",
              "    0% {\n",
              "      border-color: transparent;\n",
              "      border-bottom-color: var(--fill-color);\n",
              "      border-left-color: var(--fill-color);\n",
              "    }\n",
              "    20% {\n",
              "      border-color: transparent;\n",
              "      border-left-color: var(--fill-color);\n",
              "      border-top-color: var(--fill-color);\n",
              "    }\n",
              "    30% {\n",
              "      border-color: transparent;\n",
              "      border-left-color: var(--fill-color);\n",
              "      border-top-color: var(--fill-color);\n",
              "      border-right-color: var(--fill-color);\n",
              "    }\n",
              "    40% {\n",
              "      border-color: transparent;\n",
              "      border-right-color: var(--fill-color);\n",
              "      border-top-color: var(--fill-color);\n",
              "    }\n",
              "    60% {\n",
              "      border-color: transparent;\n",
              "      border-right-color: var(--fill-color);\n",
              "    }\n",
              "    80% {\n",
              "      border-color: transparent;\n",
              "      border-right-color: var(--fill-color);\n",
              "      border-bottom-color: var(--fill-color);\n",
              "    }\n",
              "    90% {\n",
              "      border-color: transparent;\n",
              "      border-bottom-color: var(--fill-color);\n",
              "    }\n",
              "  }\n",
              "</style>\n",
              "\n",
              "  <script>\n",
              "    async function quickchart(key) {\n",
              "      const quickchartButtonEl =\n",
              "        document.querySelector('#' + key + ' button');\n",
              "      quickchartButtonEl.disabled = true;  // To prevent multiple clicks.\n",
              "      quickchartButtonEl.classList.add('colab-df-spinner');\n",
              "      try {\n",
              "        const charts = await google.colab.kernel.invokeFunction(\n",
              "            'suggestCharts', [key], {});\n",
              "      } catch (error) {\n",
              "        console.error('Error during call to suggestCharts:', error);\n",
              "      }\n",
              "      quickchartButtonEl.classList.remove('colab-df-spinner');\n",
              "      quickchartButtonEl.classList.add('colab-df-quickchart-complete');\n",
              "    }\n",
              "    (() => {\n",
              "      let quickchartButtonEl =\n",
              "        document.querySelector('#df-1a089eee-ff7e-43c7-9a56-17ec599c39a4 button');\n",
              "      quickchartButtonEl.style.display =\n",
              "        google.colab.kernel.accessAllowed ? 'block' : 'none';\n",
              "    })();\n",
              "  </script>\n",
              "</div>\n",
              "    </div>\n",
              "  </div>\n"
            ]
          },
          "metadata": {},
          "execution_count": 5
        }
      ]
    },
    {
      "cell_type": "code",
      "source": [
        "df.info()"
      ],
      "metadata": {
        "colab": {
          "base_uri": "https://localhost:8080/"
        },
        "id": "qiMraaYZnRMc",
        "outputId": "c9606f59-30bc-4297-8ef5-c00a15dfe14d"
      },
      "execution_count": 6,
      "outputs": [
        {
          "output_type": "stream",
          "name": "stdout",
          "text": [
            "<class 'pandas.core.frame.DataFrame'>\n",
            "RangeIndex: 141 entries, 0 to 140\n",
            "Data columns (total 13 columns):\n",
            " #   Column                  Non-Null Count  Dtype  \n",
            "---  ------                  --------------  -----  \n",
            " 0   Menu Category           141 non-null    object \n",
            " 1   Menu Items              141 non-null    object \n",
            " 2   Per Serve Size          141 non-null    object \n",
            " 3   Energy (kCal)           141 non-null    float64\n",
            " 4   Protein (g)             141 non-null    float64\n",
            " 5   Total fat (g)           141 non-null    float64\n",
            " 6   Sat Fat (g)             141 non-null    float64\n",
            " 7   Trans fat (g)           141 non-null    float64\n",
            " 8   Cholesterols (mg)       141 non-null    float64\n",
            " 9   Total carbohydrate (g)  141 non-null    float64\n",
            " 10  Total Sugars (g)        141 non-null    float64\n",
            " 11  Added Sugars (g)        141 non-null    float64\n",
            " 12  Sodium (mg)             140 non-null    float64\n",
            "dtypes: float64(10), object(3)\n",
            "memory usage: 14.4+ KB\n"
          ]
        }
      ]
    },
    {
      "cell_type": "code",
      "source": [
        "df.isna().any()"
      ],
      "metadata": {
        "colab": {
          "base_uri": "https://localhost:8080/"
        },
        "id": "6ev5WWWerpwY",
        "outputId": "b93ab8b8-dfb6-4304-edb7-bc9b85367c25"
      },
      "execution_count": 7,
      "outputs": [
        {
          "output_type": "execute_result",
          "data": {
            "text/plain": [
              "Menu Category             False\n",
              "Menu Items                False\n",
              "Per Serve Size            False\n",
              "Energy (kCal)             False\n",
              "Protein (g)               False\n",
              "Total fat (g)             False\n",
              "Sat Fat (g)               False\n",
              "Trans fat (g)             False\n",
              "Cholesterols (mg)         False\n",
              "Total carbohydrate (g)    False\n",
              "Total Sugars (g)          False\n",
              "Added Sugars (g)          False\n",
              "Sodium (mg)                True\n",
              "dtype: bool"
            ]
          },
          "metadata": {},
          "execution_count": 7
        }
      ]
    },
    {
      "cell_type": "code",
      "source": [
        "df.columns"
      ],
      "metadata": {
        "colab": {
          "base_uri": "https://localhost:8080/"
        },
        "id": "vo02oegarsyk",
        "outputId": "7531d81d-c043-436d-a12f-3e9c48bc1c5e"
      },
      "execution_count": 9,
      "outputs": [
        {
          "output_type": "execute_result",
          "data": {
            "text/plain": [
              "Index(['Menu Category', 'Menu Items', 'Per Serve Size', 'Energy (kCal)',\n",
              "       'Protein (g)', 'Total fat (g)', 'Sat Fat (g)', 'Trans fat (g)',\n",
              "       'Cholesterols (mg)', 'Total carbohydrate (g)', 'Total Sugars (g)',\n",
              "       'Added Sugars (g)', 'Sodium (mg)'],\n",
              "      dtype='object')"
            ]
          },
          "metadata": {},
          "execution_count": 9
        }
      ]
    },
    {
      "cell_type": "markdown",
      "source": [
        "## Which Menu Item has least Energy (kCal)?"
      ],
      "metadata": {
        "id": "V-ncP2_A3J6n"
      }
    },
    {
      "cell_type": "code",
      "source": [
        "leastEnergy = df['Energy (kCal)'].min()\n",
        "#print(leastEnergy)\n",
        "minEnergyItem = df.loc[df['Energy (kCal)'] == leastEnergy, 'Menu Items'].iloc[0]\n",
        "print(\"Item : \",minEnergyItem, \"has a minimum energy of : \", leastEnergy , \" kCal\")"
      ],
      "metadata": {
        "colab": {
          "base_uri": "https://localhost:8080/"
        },
        "id": "MQentKdY3E3s",
        "outputId": "fee91f2a-12cf-4880-e66f-5c38146a563b"
      },
      "execution_count": 16,
      "outputs": [
        {
          "output_type": "stream",
          "name": "stdout",
          "text": [
            "0.0\n",
            "Item :  Vedica Natural Mineral Water has a minimum energy of :  0.0  kCal\n"
          ]
        }
      ]
    },
    {
      "cell_type": "markdown",
      "source": [
        "## Which Menu Item has  max Energy (kCal)?"
      ],
      "metadata": {
        "id": "oCpXOSxB7RH7"
      }
    },
    {
      "cell_type": "code",
      "source": [
        "maxEnergyItem = df.loc[df[\"Energy (kCal)\"] == df['Energy (kCal)'].max(), 'Menu Items'].iloc[0]\n",
        "print(\"Item : \", maxEnergyItem, \" has maximum Energy \", df['Energy (kCal)'].max(), \" kCal\")"
      ],
      "metadata": {
        "colab": {
          "base_uri": "https://localhost:8080/"
        },
        "id": "9IJkyhxy7YXs",
        "outputId": "ed54e5a4-16ab-41ec-d72d-48fa0201e535"
      },
      "execution_count": 17,
      "outputs": [
        {
          "output_type": "stream",
          "name": "stdout",
          "text": [
            "Item :  Chicken Cheese Lava Burger  has maximum Energy  834.36  kCal\n"
          ]
        }
      ]
    },
    {
      "cell_type": "markdown",
      "source": [
        "## Which item has min serve size?"
      ],
      "metadata": {
        "id": "Rx2g--6a8UWh"
      }
    },
    {
      "cell_type": "code",
      "source": [
        "df['Per Serve Size'].unique()"
      ],
      "metadata": {
        "colab": {
          "base_uri": "https://localhost:8080/"
        },
        "id": "9whFG4zqBxP3",
        "outputId": "e9eb3b14-caf9-4068-e1aa-d8d3e81d5f86"
      },
      "execution_count": 33,
      "outputs": [
        {
          "output_type": "execute_result",
          "data": {
            "text/plain": [
              "array(['168 g', '146 g', '199 g', '250 g', '177 g', '306 g', '132 g',\n",
              "       '87 g', '173 g', '136 g', '186 g', '257 g', '296 g', '165 g',\n",
              "       '138 g', '126.2 g', '123 g', '325 g', '115 g', '64 g', '96 g',\n",
              "       '144 g', '58 g', '145 g', '77 g', '109 g', '154 g', '114 g',\n",
              "       '156 g', '216 g', '200 ml', '205 ml', '80 g', '119 g', '100 g',\n",
              "       '123.2 g', '112 g', '157 g', '142 g', '26.5 ml', '76.5 ml',\n",
              "       '276.5 ml', '347.5 ml', '455 ml', '201.5 ml', '297.5 ml', '355 ml',\n",
              "       '236.5 ml', '307.5 ml', '375 ml', '266.5 ml', '405 ml', '242.5 ml',\n",
              "       '311.5 ml', '377 ml', '127 ml', '223 ml', '259 ml', '367 ml',\n",
              "       '153 ml', '163 ml', '279 ml', '330 ml', '456 ml', '245 ml',\n",
              "       '291.5 ml', '296.5 ml', '320.5 ml', '334 ml', '280 ml', '290 ml',\n",
              "       '310 ml', '317 ml', '81.29 g', '93.29 g', '91.79 g', '132.08 g',\n",
              "       '110.79 g', '155.08 g', '125.79 g', '200.08 g', '86.79 g',\n",
              "       '147.38 g', '195 g', '207 g', '240 g', '307 g', '301 g', '264.5 g',\n",
              "       '212.5 g', '228 g', '211 g', '90 g', '135 g', '299 ml', '394 ml',\n",
              "       '544 ml', '286.79 ml', '500 ml', '25 g', '10 g', '5 g', '8 g',\n",
              "       '30 g', '14 g', '40 g', '180 ml'], dtype=object)"
            ]
          },
          "metadata": {},
          "execution_count": 33
        }
      ]
    },
    {
      "cell_type": "code",
      "source": [
        "\n",
        "dfServeSizeg = df[df['Per Serve Size'].str.contains('g')]\n",
        "dfServeSizeg['Per Serve Size'] = dfServeSizeg['Per Serve Size'].map(lambda x: x.lstrip('g').rstrip('g'))\n",
        "\n",
        "dfServeSizeg['Per Serve Size'] = dfServeSizeg['Per Serve Size'].astype(float)\n",
        "\n",
        "print(dfServeSizeg.shape)\n",
        "\n",
        "minServeSize = dfServeSizeg.loc[dfServeSizeg['Per Serve Size'] == dfServeSizeg['Per Serve Size'].min() , 'Menu Items'].iloc[0]\n",
        "print(\"Item : \",minServeSize , \"has minimum serve size of \", dfServeSizeg['Per Serve Size'].min())\n",
        "\n",
        "minServeSize = dfServeSizeg.loc[dfServeSizeg['Per Serve Size'] == dfServeSizeg['Per Serve Size'].max() , 'Menu Items'].iloc[0]\n",
        "print(\"Item : \",minServeSize , \"has maximum serve size of \", dfServeSizeg['Per Serve Size'].max())"
      ],
      "metadata": {
        "colab": {
          "base_uri": "https://localhost:8080/"
        },
        "id": "AH4NwgrWD14-",
        "outputId": "7c5b8b0c-4d46-4e57-d6b9-5d35ff52859a"
      },
      "execution_count": 62,
      "outputs": [
        {
          "output_type": "stream",
          "name": "stdout",
          "text": [
            "(73, 13)\n",
            "Item :  Piri Piri Mix has minimum serve size of  5.0\n",
            "Item :  Ghee Rice with Mc Spicy Fried Chicken 1 pc has maximum serve size of  325.0\n"
          ]
        },
        {
          "output_type": "stream",
          "name": "stderr",
          "text": [
            "<ipython-input-62-026daf36ef01>:2: SettingWithCopyWarning: \n",
            "A value is trying to be set on a copy of a slice from a DataFrame.\n",
            "Try using .loc[row_indexer,col_indexer] = value instead\n",
            "\n",
            "See the caveats in the documentation: https://pandas.pydata.org/pandas-docs/stable/user_guide/indexing.html#returning-a-view-versus-a-copy\n",
            "  dfServeSizeg['Per Serve Size'] = dfServeSizeg['Per Serve Size'].map(lambda x: x.lstrip('g').rstrip('g'))\n",
            "<ipython-input-62-026daf36ef01>:4: SettingWithCopyWarning: \n",
            "A value is trying to be set on a copy of a slice from a DataFrame.\n",
            "Try using .loc[row_indexer,col_indexer] = value instead\n",
            "\n",
            "See the caveats in the documentation: https://pandas.pydata.org/pandas-docs/stable/user_guide/indexing.html#returning-a-view-versus-a-copy\n",
            "  dfServeSizeg['Per Serve Size'] = dfServeSizeg['Per Serve Size'].astype(float)\n"
          ]
        }
      ]
    },
    {
      "cell_type": "code",
      "source": [
        "dfServeSizeml = df[df['Per Serve Size'].str.contains('ml')]\n",
        "dfServeSizeml['Per Serve Size'] = dfServeSizeml['Per Serve Size'].map(lambda x: x.lstrip('ml').rstrip('ml'))\n",
        "\n",
        "dfServeSizeml['Per Serve Size'] = dfServeSizeml['Per Serve Size'].astype(float)\n",
        "\n",
        "minServeSize = dfServeSizeml.loc[dfServeSizeml['Per Serve Size'] == dfServeSizeml['Per Serve Size'].min() , 'Menu Items'].iloc[0]\n",
        "print(\"Item : \",minServeSize , \"has minimum serve size of \", dfServeSizeml['Per Serve Size'].min())\n",
        "\n",
        "minServeSize = dfServeSizeml.loc[dfServeSizeml['Per Serve Size'] == dfServeSizeml['Per Serve Size'].max() , 'Menu Items'].iloc[0]\n",
        "print(\"Item : \",minServeSize , \"has maximum serve size of \", dfServeSizeml['Per Serve Size'].max())"
      ],
      "metadata": {
        "colab": {
          "base_uri": "https://localhost:8080/"
        },
        "id": "k-af20v_8YJP",
        "outputId": "b7eaaf9a-fa15-4f86-eaeb-ac11455ee0b2"
      },
      "execution_count": 78,
      "outputs": [
        {
          "output_type": "stream",
          "name": "stdout",
          "text": [
            "Item :  Espresso has minimum serve size of  26.5\n",
            "Item :  Large Coca-Cola has maximum serve size of  544.0\n"
          ]
        },
        {
          "output_type": "stream",
          "name": "stderr",
          "text": [
            "<ipython-input-78-3b268ba9a04d>:2: SettingWithCopyWarning: \n",
            "A value is trying to be set on a copy of a slice from a DataFrame.\n",
            "Try using .loc[row_indexer,col_indexer] = value instead\n",
            "\n",
            "See the caveats in the documentation: https://pandas.pydata.org/pandas-docs/stable/user_guide/indexing.html#returning-a-view-versus-a-copy\n",
            "  dfServeSizeml['Per Serve Size'] = dfServeSizeml['Per Serve Size'].map(lambda x: x.lstrip('ml').rstrip('ml'))\n",
            "<ipython-input-78-3b268ba9a04d>:4: SettingWithCopyWarning: \n",
            "A value is trying to be set on a copy of a slice from a DataFrame.\n",
            "Try using .loc[row_indexer,col_indexer] = value instead\n",
            "\n",
            "See the caveats in the documentation: https://pandas.pydata.org/pandas-docs/stable/user_guide/indexing.html#returning-a-view-versus-a-copy\n",
            "  dfServeSizeml['Per Serve Size'] = dfServeSizeml['Per Serve Size'].astype(float)\n"
          ]
        }
      ]
    },
    {
      "cell_type": "markdown",
      "source": [
        "## Which item has max serve size?"
      ],
      "metadata": {
        "id": "OrNaSkqe9jXy"
      }
    },
    {
      "cell_type": "code",
      "source": [
        "maxServeSize = df.loc[df[\"Per Serve Size\"] == df['Per Serve Size'].max(), 'Menu Items'].iloc[0]\n",
        "print(\"Item : \" , maxServeSize , \"has maximum Item size of \",df['Per Serve Size'].max())"
      ],
      "metadata": {
        "colab": {
          "base_uri": "https://localhost:8080/"
        },
        "id": "A36SuRjR9msx",
        "outputId": "a01ae3ab-f3ba-4241-d7ad-985b1e23f46b"
      },
      "execution_count": 19,
      "outputs": [
        {
          "output_type": "stream",
          "name": "stdout",
          "text": [
            "Item :  6 piece Chicken McNuggets has maximum Item size of  96 g\n"
          ]
        }
      ]
    },
    {
      "cell_type": "markdown",
      "source": [
        "## Which item has least and most total fat?"
      ],
      "metadata": {
        "id": "xby4NaFq9_jo"
      }
    },
    {
      "cell_type": "code",
      "source": [
        "minTotalFat = df.loc[df[\"Total fat (g)\"] == df['Total fat (g)'].min(), 'Menu Items'].iloc[0]\n",
        "print(\"Item : \" , minTotalFat , \"has minimum total fat of \",df['Total fat (g)'].min())\n",
        "\n",
        "maxTotalFat = df.loc[df[\"Total fat (g)\"] == df['Total fat (g)'].max(), 'Menu Items'].iloc[0]\n",
        "print(\"Item : \" , maxTotalFat , \"has maximum total fat of \",df['Total fat (g)'].max())"
      ],
      "metadata": {
        "colab": {
          "base_uri": "https://localhost:8080/"
        },
        "id": "NNam7lnR-HcW",
        "outputId": "1786e18f-5771-4bf5-f3b0-a7103fb6bdb6"
      },
      "execution_count": 21,
      "outputs": [
        {
          "output_type": "stream",
          "name": "stdout",
          "text": [
            "Item :  L1 Coffee has minimum total fat of  0.0\n",
            "Item :  Chicken Cheese Lava Burger has maximum total fat of  45.18\n"
          ]
        }
      ]
    },
    {
      "cell_type": "markdown",
      "source": [
        "## Which menu category has max items?"
      ],
      "metadata": {
        "id": "JBH5oeFn-rVf"
      }
    },
    {
      "cell_type": "code",
      "source": [
        "df['Menu Category'].unique()"
      ],
      "metadata": {
        "colab": {
          "base_uri": "https://localhost:8080/"
        },
        "id": "maNfWtQX-t0U",
        "outputId": "55849d68-941f-48cb-ecc8-7a34818ee033"
      },
      "execution_count": 23,
      "outputs": [
        {
          "output_type": "execute_result",
          "data": {
            "text/plain": [
              "array(['Regular Menu', 'Breakfast Menu', 'McCafe Menu', 'Desserts Menu',\n",
              "       'Gourmet Menu', 'Beverages Menu', 'Condiments Menu'], dtype=object)"
            ]
          },
          "metadata": {},
          "execution_count": 23
        }
      ]
    },
    {
      "cell_type": "code",
      "source": [
        "countMenu = df['Menu Category'].value_counts()\n",
        "print(countMenu)"
      ],
      "metadata": {
        "colab": {
          "base_uri": "https://localhost:8080/"
        },
        "id": "AW6XhaCE_L_m",
        "outputId": "5dd2305e-9589-44cc-be5b-dba057a97165"
      },
      "execution_count": 31,
      "outputs": [
        {
          "output_type": "stream",
          "name": "stdout",
          "text": [
            "McCafe Menu        51\n",
            "Regular Menu       36\n",
            "Beverages Menu     17\n",
            "Breakfast Menu     15\n",
            "Gourmet Menu       11\n",
            "Condiments Menu     9\n",
            "Desserts Menu       2\n",
            "Name: Menu Category, dtype: int64\n"
          ]
        }
      ]
    },
    {
      "cell_type": "code",
      "source": [
        "plt.figure(figsize=(10, 6))\n",
        "sns.countplot(data=df, x='Menu Category',palette='viridis')\n",
        "plt.xlabel('Menu Category')\n",
        "plt.ylabel('Count')\n",
        "plt.title('Distribution of Menu Items by Category')\n",
        "plt.xticks(rotation=45)\n",
        "plt.show()\n"
      ],
      "metadata": {
        "colab": {
          "base_uri": "https://localhost:8080/",
          "height": 754
        },
        "id": "dUXUyuMZL4Yz",
        "outputId": "1198a6b6-0f47-4677-a5cd-9f42fdfad688"
      },
      "execution_count": 84,
      "outputs": [
        {
          "output_type": "stream",
          "name": "stderr",
          "text": [
            "<ipython-input-84-09c14f8843a2>:2: FutureWarning: \n",
            "\n",
            "Passing `palette` without assigning `hue` is deprecated and will be removed in v0.14.0. Assign the `x` variable to `hue` and set `legend=False` for the same effect.\n",
            "\n",
            "  sns.countplot(data=df, x='Menu Category',palette='viridis')\n"
          ]
        },
        {
          "output_type": "display_data",
          "data": {
            "text/plain": [
              "<Figure size 1000x600 with 1 Axes>"
            ],
            "image/png": "[encoded data removed]"
          },
          "metadata": {}
        }
      ]
    },
    {
      "cell_type": "code",
      "source": [
        "plt.figure(figsize=(12, 8))\n",
        "sns.histplot(data=df, x='Energy (kCal)', bins=20, kde=True, palette='virdis')\n",
        "plt.xlabel('Energy (kCal)')\n",
        "plt.ylabel('Frequency')\n",
        "plt.title('Distribution of Energy (kCal)')\n",
        "plt.show()"
      ],
      "metadata": {
        "colab": {
          "base_uri": "https://localhost:8080/",
          "height": 752
        },
        "id": "ido25YDmMk3J",
        "outputId": "c3f59dc3-e822-4d50-aaa7-3a039f111840"
      },
      "execution_count": 88,
      "outputs": [
        {
          "output_type": "stream",
          "name": "stderr",
          "text": [
            "<ipython-input-88-83cfd59e59d9>:2: UserWarning: Ignoring `palette` because no `hue` variable has been assigned.\n",
            "  sns.histplot(data=df, x='Energy (kCal)', bins=20, kde=True, palette='virdis')\n"
          ]
        },
        {
          "output_type": "display_data",
          "data": {
            "text/plain": [
              "<Figure size 1200x800 with 1 Axes>"
            ],
            "image/png": "[encoded data removed]"
          },
          "metadata": {}
        }
      ]
    }
  ]
}